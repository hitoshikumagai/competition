{
 "cells": [
  {
   "cell_type": "markdown",
   "metadata": {},
   "source": [
    "# Overview of this Notebook\n",
    "### Introduction:分析対象のデータについて解説する。\n",
    "### Motivation:このデータ分析がどんな人やシーンに役に立つか？\n",
    "### Purpose:具体的な分析例をまとめておく"
   ]
  },
  {
   "cell_type": "markdown",
   "metadata": {},
   "source": [
    "* CRISP-DM \n",
    "    * Business Understanding\n",
    "    * Data Understanding\n",
    "    * Prepare Data and Data Modeling\n",
    "    * Evaluate the Results\n",
    "\n",
    "* Kaggle Format\n",
    "    * Extract\n",
    "    * EDA"
   ]
  },
  {
   "cell_type": "markdown",
   "metadata": {},
   "source": [
    "# Extract\n",
    "\n",
    "* データ読み込み\n",
    "    * ファイルパスの変数への格納\n",
    "    * データ型式の指定\n",
    "    * データの読み込み\n",
    "\n",
    "<br>\n",
    "\n",
    "* データを始めて見る時にやること\n",
    "    * データの型式と欠損値の確認\n",
    "    * Cardinality\n",
    "    * データの重複\n",
    "    * 要約統計量"
   ]
  },
  {
   "cell_type": "markdown",
   "metadata": {},
   "source": [
    "# EDAの結果に書くこと\n",
    "\n",
    "## ラベル\n",
    "\n",
    "* ラベルの分布をみていく\n",
    "\n",
    "## 特徴量\n",
    "\n",
    "### 初回\n",
    "* データの概要をつかむ\n",
    "* 特徴量に使うかどうかを判断する\n",
    "* \n",
    "\n",
    "### ２回目以降:仮説検証ベースでプロットを行う"
   ]
  },
  {
   "cell_type": "markdown",
   "metadata": {},
   "source": []
  }
 ],
 "metadata": {
  "kernelspec": {
   "display_name": "Python 3.8.12 ('base')",
   "language": "python",
   "name": "python3"
  },
  "language_info": {
   "name": "python",
   "version": "3.8.12"
  },
  "orig_nbformat": 4,
  "vscode": {
   "interpreter": {
    "hash": "40d3a090f54c6569ab1632332b64b2c03c39dcf918b08424e98f38b5ae0af88f"
   }
  }
 },
 "nbformat": 4,
 "nbformat_minor": 2
}
